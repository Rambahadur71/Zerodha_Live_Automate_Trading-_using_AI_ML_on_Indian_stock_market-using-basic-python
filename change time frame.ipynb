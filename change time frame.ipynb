{
 "cells": [
  {
   "cell_type": "code",
   "execution_count": 1,
   "metadata": {},
   "outputs": [],
   "source": [
    "import pandas as pd\n",
    "import numpy as np\n",
    "import time\n",
    "import math"
   ]
  },
  {
   "cell_type": "code",
   "execution_count": 3,
   "metadata": {},
   "outputs": [],
   "source": [
    "\n",
    "def minute_convertion(timeframe,data):\n",
    "    \n",
    "    i=0\n",
    "    value1,value1_index,value2,value2_index =0,0,0,0\n",
    "    count=0\n",
    "    new_list =[]\n",
    "    df = data\n",
    "    day_change_index = []\n",
    "    \n",
    "    for i,x in enumerate(data.date):\n",
    "        if x[11:] == \"00:01:00.000Z\":\n",
    "            day_change_index.append(i)\n",
    "\n",
    "    for j in day_change_index:\n",
    "        d=math.ceil((j-i)/timeframe)\n",
    "        count =0\n",
    "#         print(j)\n",
    "        \n",
    "        for k in range(i,j+1,timeframe):\n",
    "            count=count+1\n",
    "#             print(k)\n",
    "            \n",
    "            if count!=d: \n",
    "                m=df.loc[k,\"date\"]\n",
    "                n=df.loc[k+(timeframe)-1,\"date\"]\n",
    "#                 print(m,n)\n",
    "                \n",
    "                for p,q in enumerate(df.date):\n",
    "                    if q == m:\n",
    "                        value1 = df.loc[p]\n",
    "                        value1_index=p\n",
    "                        break\n",
    "                        \n",
    "                for p,q in enumerate(df.date):\n",
    "                    if q == n:\n",
    "                        value2 = df.loc[p]\n",
    "                        value2_index = p\n",
    "                        break\n",
    "                        \n",
    "                new_list.append([n,df.loc[value1_index,\"open\"],max(df.loc[value1_index:value2_index,\"high\"])\n",
    "                                ,min(df.loc[value1_index:value2_index,\"low\"]),df.loc[value2_index,\"close\"],\n",
    "                                sum(df.loc[value1_index:value2_index,\"volume\"])])\n",
    "\n",
    "            else:\n",
    "                m=df.loc[k,\"date\"]\n",
    "                n=df.loc[j-1,\"date\"]\n",
    "                \n",
    "                for p,q in enumerate(df.date):\n",
    "                    if q == m:\n",
    "                        value1 = df.loc[p]\n",
    "                        value1_index=p\n",
    "#                         print(value1)\n",
    "                        break\n",
    "                \n",
    "                for p,q in enumerate(df.date):\n",
    "                    if q == n:\n",
    "                        value2 = df.loc[p]\n",
    "                        value2_index = p\n",
    "#                         print(value2)\n",
    "                        break\n",
    "                \n",
    "                new_list.append([n,df.loc[value1_index,\"open\"],max(df.loc[value1_index:value2_index,\"high\"])\n",
    "                                ,min(df.loc[value1_index:value2_index,\"low\"]),df.loc[value2_index,\"close\"],\n",
    "                                sum(df.loc[value1_index:value2_index,\"volume\"])])\n",
    "        i=j\n",
    "    \n",
    "    new_data = pd.DataFrame(new_list,columns = [\"date\",\"open\",\"high\",\"low\",\"close\",\"volume\"],index= None)\n",
    "    return new_data"
   ]
  },
  {
   "cell_type": "code",
   "execution_count": 5,
   "metadata": {
    "scrolled": true
   },
   "outputs": [],
   "source": [
    "a = minute_convertion(72,new_df)\n",
    "a = a.drop_duplicates()\n",
    "a = a.reset_index(drop=True)\n",
    "b = HA(new_df)\n",
    "b"
   ]
  }
 ],
 "metadata": {
  "kernelspec": {
   "display_name": "Python 3",
   "language": "python",
   "name": "python3"
  },
  "language_info": {
   "codemirror_mode": {
    "name": "ipython",
    "version": 3
   },
   "file_extension": ".py",
   "mimetype": "text/x-python",
   "name": "python",
   "nbconvert_exporter": "python",
   "pygments_lexer": "ipython3",
   "version": "3.7.3"
  }
 },
 "nbformat": 4,
 "nbformat_minor": 2
}
