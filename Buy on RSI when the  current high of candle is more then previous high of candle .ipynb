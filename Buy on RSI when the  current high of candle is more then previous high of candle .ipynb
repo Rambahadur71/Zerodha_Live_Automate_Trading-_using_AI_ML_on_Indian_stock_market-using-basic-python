{
 "cells": [
  {
   "cell_type": "markdown",
   "metadata": {},
   "source": [
    "# Buy on RSI (sunpharma stock ) "
   ]
  },
  {
   "cell_type": "markdown",
   "metadata": {},
   "source": [
    "# when the  Current high of candle is more then previous high of candle  "
   ]
  },
  {
   "cell_type": "markdown",
   "metadata": {},
   "source": [
    "From this code we can place a limit order of sunpharma, when the RSI is greater then 30 and the current high of candle is higher then the previous high of candle "
   ]
  },
  {
   "cell_type": "code",
   "execution_count": null,
   "metadata": {},
   "outputs": [],
   "source": [
    "from kiteconnect import KiteTicker               \n",
    "from kiteconnect import KiteConnect  \n",
    "api_key='************************'                      \n",
    "api_secret=' *************************'   \n",
    "kite=KiteConnect(api_key,api_secret)\n",
    "kite.login_url()"
   ]
  },
  {
   "cell_type": "code",
   "execution_count": null,
   "metadata": {},
   "outputs": [],
   "source": [
    "import logging\n",
    "logging.basicConfig(level=logging.DEBUG)\n",
    "kite = KiteConnect(api_key=api_key)\n",
    "token=\"HTJQmxal5dsFRQ5WbibO1B4MYvclB8OF\"\n",
    "data = kite.generate_session(token,api_secret)\n",
    "kite.set_access_token(data[\"access_token\"])\n",
    "print(data)"
   ]
  },
  {
   "cell_type": "code",
   "execution_count": 26,
   "metadata": {},
   "outputs": [
    {
     "name": "stderr",
     "output_type": "stream",
     "text": [
      "DEBUG:urllib3.connectionpool:Starting new HTTPS connection (1): api.kite.trade:443\n",
      "DEBUG:urllib3.connectionpool:https://api.kite.trade:443 \"GET /instruments/historical/857857/minute?instrument_token=857857&from=2019-01-05&to=2019-06-02&interval=minute&continuous=0 HTTP/1.1\" 200 None\n",
      "DEBUG:urllib3.connectionpool:Starting new HTTPS connection (1): api.kite.trade:443\n"
     ]
    },
    {
     "name": "stdout",
     "output_type": "stream",
     "text": [
      "66.9597502000033\n"
     ]
    },
    {
     "name": "stderr",
     "output_type": "stream",
     "text": [
      "DEBUG:urllib3.connectionpool:https://api.kite.trade:443 \"POST /orders/regular HTTP/1.1\" 200 None\n"
     ]
    },
    {
     "name": "stdout",
     "output_type": "stream",
     "text": [
      "one order placed\n"
     ]
    }
   ],
   "source": [
    "from pprint import pprint\n",
    "import pandas as pd \n",
    "import numpy as np\n",
    "from datetime import datetime \n",
    "from IPython.display import clear_output\n",
    "import time\n",
    "from kiteconnect import KiteTicker  \n",
    "from kiteconnect import KiteConnect\n",
    "\n",
    "def livedata():\n",
    "    while (True):\n",
    "        km=datetime.now().minute\n",
    "        ks=datetime.now().second\n",
    "        if km%1==0 and ks==1:\n",
    "            clear_output(wait=True)\n",
    "            z=kite.historical_data(857857, \"2019-01-05\", \"2019-06-02\",\"minute\",0)\n",
    "            za=pd.DataFrame(z)\n",
    "            rsi_period=14\n",
    "            chg=za[\"close\"].diff(1)\n",
    "            gain=chg.mask(chg<0,0) \n",
    "            loss=chg.mask(chg>0,0)\n",
    "            avg_gain=gain.ewm(com=rsi_period-1,min_periods=rsi_period).mean()\n",
    "            avg_loss=loss.ewm(com=rsi_period-1,min_periods=rsi_period).mean()\n",
    "            rs =abs(avg_gain / avg_loss)\n",
    "            rsi =100 -(100/(1+rs))\n",
    "            za['rsi']=rsi\n",
    "            print(za.iloc[-1,6])\n",
    "            \n",
    "                # rsi value            #prev high        #current high \n",
    "                \n",
    "            if za.iloc[-1,6] > 30 and  za.iloc[-2,2]  >  za.iloc[-1,2]:\n",
    "                \n",
    "                kite.place_order( variety=\"regular\",tradingsymbol='SUNPHARMA',quantity=1,exchange='NSE',order_type='LIMIT',price= 453,transaction_type='BUY',product='CNC')\n",
    "                print(\"one order placed\")\n",
    "                break\n",
    "            else:\n",
    "                pass\n",
    "            time.sleep(60)\n",
    "livedata()"
   ]
  }
 ],
 "metadata": {
  "kernelspec": {
   "display_name": "Python 3",
   "language": "python",
   "name": "python3"
  },
  "language_info": {
   "codemirror_mode": {
    "name": "ipython",
    "version": 3
   },
   "file_extension": ".py",
   "mimetype": "text/x-python",
   "name": "python",
   "nbconvert_exporter": "python",
   "pygments_lexer": "ipython3",
   "version": "3.7.3"
  }
 },
 "nbformat": 4,
 "nbformat_minor": 2
}
